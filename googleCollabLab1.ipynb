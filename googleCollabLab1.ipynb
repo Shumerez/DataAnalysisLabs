{
  "nbformat": 4,
  "nbformat_minor": 0,
  "metadata": {
    "colab": {
      "provenance": [],
      "include_colab_link": true
    },
    "kernelspec": {
      "display_name": "Python 3",
      "language": "python",
      "name": "python3"
    },
    "language_info": {
      "codemirror_mode": {
        "name": "ipython",
        "version": 3
      },
      "file_extension": ".py",
      "mimetype": "text/x-python",
      "name": "python",
      "nbconvert_exporter": "python",
      "pygments_lexer": "ipython3",
      "version": "3.7.4"
    }
  },
  "cells": [
    {
      "cell_type": "markdown",
      "metadata": {
        "id": "view-in-github",
        "colab_type": "text"
      },
      "source": [
        "<a href=\"https://colab.research.google.com/github/Shumerez/DataAnalysisLabs/blob/main/googleCollabLab1.ipynb\" target=\"_parent\"><img src=\"https://colab.research.google.com/assets/colab-badge.svg\" alt=\"Open In Colab\"/></a>"
      ]
    },
    {
      "cell_type": "markdown",
      "metadata": {
        "id": "BsNwjQDRfmLY"
      },
      "source": [
        "# Задание 1 (numpy + matplotlib)"
      ]
    },
    {
      "cell_type": "markdown",
      "metadata": {
        "id": "wu6r1-s7fmLe"
      },
      "source": [
        "---"
      ]
    },
    {
      "cell_type": "markdown",
      "metadata": {
        "id": "zxRIdPO9gYyX"
      },
      "source": [
        "Напишите программу, которая будет решать систему линейных уравнений вида:\n",
        "\n",
        "\\begin{matrix} a_{11}x+a_{12}y=b_{1}&(1) \\\\ a_{21}x+a_{22}y=b_{2} &(2) \\end{matrix}\n",
        "​\t\n",
        "* На вход программа должна принимать 2 строки (т.е. должен быть реализован ввод с клавиатуры). Каждая строка содержит 3 действительных числа через пробел: коэффициенты a и b.\n",
        "* Систему уравнений необходимо решить \"матричным\" способом. Предусмотрите случаи, когда решения есть, решений нет, решений бесконечно много. Выведите ответ. Покажите решение на графике. Если решения есть, постройте график и точкой отметьте решение (если оно одно, например, функцией [`scatter`](https://matplotlib.org/stable/api/_as_gen/matplotlib.pyplot.scatter.html)). ГРАФИК СТРОИТСЯ ВО ВСЕХ ТРЕХ РАССМАТРИВАЕМЫХ СЛУЧАЯХ."
      ]
    },
    {
      "cell_type": "code",
      "metadata": {
        "id": "6sxlcLbVlrjl"
      },
      "source": [
        "import numpy as np\n",
        "import matplotlib.pyplot as plt\n",
        "\n",
        "# create an empty figure with no Axes\n",
        "mainFigure = plt.figure()\n",
        "mainFigure.subplotpars.update(left = 0.05, bottom = 0.05) # manually add some space to see left & bottom axis\n",
        "\n",
        "# add Axes named 'mainAxes' to the mainFigure\n",
        "mainAxes = mainFigure.add_subplot() \n",
        "\n",
        "# Equations:\n",
        "# (1) a11*x + a12*y = b1\n",
        "# (2) a21*x + a22*y = b2\n",
        "#\n",
        "# a11 = firstEquationInput[0]; a12 = firstEquationInput[1]; b1 = firstEquationInput[2]\n",
        "# a21 = secondEquationInput[0]; a22 = secondEquationInput[1]; b2 = secondEquationInput[2]\n",
        "\n",
        "# inputs\n",
        "firstEquationInput = list(map(int,input(\"\\nEnter first equation coefficients WITH SPACES like this 'a11 a12 b1' : \").strip().split()))[:3]\n",
        "secondEquationInput = list(map(int,input(\"\\nEnter second equation coefficients WITH SPACES like this 'a21 a22 b2' : \").strip().split()))[:3]\n",
        "\n",
        "# wrap arrays in np.array()\n",
        "coefficientsSet = np.array( [ firstEquationInput[:2], secondEquationInput[:2] ] )\n",
        "setOfOrdinates = np.array( [ firstEquationInput[2], secondEquationInput[2] ] )\n",
        "\n",
        "\n",
        "# calculate normal and expanded matrix ranks\n",
        "rankOfMatrix = np.linalg.matrix_rank( [ firstEquationInput[:2], secondEquationInput[:2] ] )\n",
        "rankOfExpandedMatrix = np.linalg.matrix_rank( [ firstEquationInput[:2] + [ firstEquationInput[2] ], secondEquationInput[:2] + [ secondEquationInput[2] ] ] )\n",
        "\n",
        "# data\n",
        "x = np.linspace(-20, 20) # Array of Xs\n",
        "\n",
        "y1 = (firstEquationInput[0] * -x / firstEquationInput[1]) + (firstEquationInput[2] / firstEquationInput[1]) # first equation\n",
        "y2 = (secondEquationInput[0] * -x / secondEquationInput[1]) + (secondEquationInput[2] / secondEquationInput[1]) # second equation\n",
        "\n",
        "# Create two plots of F(x) and G(x)\n",
        "mainAxes.plot(x, y1, label = str(firstEquationInput[0]) + '* x + ' + str(firstEquationInput[1]) + '* y = ' + str(firstEquationInput[2]))\n",
        "mainAxes.plot(x, y2, label = str(secondEquationInput[0]) + '* x + ' + str(secondEquationInput[1]) + '* y = ' + str(secondEquationInput[2]))\n",
        "\n",
        "# check for no and infinity solutions via Capelli theorem\n",
        "if (rankOfMatrix != rankOfExpandedMatrix):                        # (1) No solutions\n",
        "    print(\"No possible solutions\")\n",
        "    mainAxes.text(0, -5, \"No possible solutions\")\n",
        "elif (rankOfMatrix != 2): # 2 - amount of unknown variables (x,y);  (2) Infinity solutions\n",
        "    print(\"Infinity possible solutions\")\n",
        "    mainAxes.text(0, -5, \"Infinity possible solutions\")\n",
        "else:                                                             # (3) One solution\n",
        "    # find answer matrix via np.linalg.solve()\n",
        "    answerMatrix = np.linalg.solve(coefficientsSet, setOfOrdinates);\n",
        "\n",
        "    print(answerMatrix);\n",
        "\n",
        "    # create dot plot to show solution\n",
        "    mainAxes.scatter(answerMatrix[0], answerMatrix[1], label = 'solution')\n",
        "    # add annotation\n",
        "    mainAxes.annotate('solution (' + str(np.format_float_positional(answerMatrix[0], precision=2)) + '; ' + str(np.format_float_positional(answerMatrix[1], precision=2)) + ')',\n",
        "                      xy=(answerMatrix[0], answerMatrix[1]), xytext=(answerMatrix[0], answerMatrix[1] - 5), arrowprops=dict(facecolor='black', shrink=0.05))\n",
        "\n",
        "# Add titles\n",
        "mainAxes.set_title('SLE solution') # set Axes title\n",
        "\n",
        "# Add labels\n",
        "mainAxes.set_xlabel('x label')  # Add an x-label to the axes.\n",
        "mainAxes.set_ylabel('y label')  # Add a y-label to the axes.\n",
        "\n",
        "# Add grid\n",
        "mainAxes.grid(True)\n",
        "\n",
        "#Add legend\n",
        "mainAxes.legend()\n",
        "\n",
        "# Print graphics\n",
        "plt.show()"
      ],
      "execution_count": null,
      "outputs": []
    },
    {
      "cell_type": "markdown",
      "metadata": {
        "id": "efml9GzISC9Q"
      },
      "source": [
        "# Задание 2 (pytorch + matplotlib)"
      ]
    },
    {
      "cell_type": "markdown",
      "metadata": {
        "id": "_hy7PFz031Wx"
      },
      "source": [
        "Пусть $f(x) = \\sin(x) * x$. Постройте график $f(x)$ и $\\frac{df(x)}{dx}$, для расчета производных воспользуйтесь методом `backward()` и matplotlib для построения графиков."
      ]
    },
    {
      "cell_type": "code",
      "metadata": {
        "id": "GPjLHMGNK_oG",
        "outputId": "361987d1-faac-4829-a125-c432c8511838",
        "colab": {
          "base_uri": "https://localhost:8080/",
          "height": 258
        }
      },
      "source": [
        "import torch\n",
        "import matplotlib.pyplot as plt\n",
        "\n",
        "# create an empty figure with no Axes\n",
        "mainFigure = plt.figure()\n",
        "mainFigure.subplotpars.update(left = 0.2, bottom = 0.2) # manually add some space to see left & bottom axis\n",
        "\n",
        "# add Axes named 'mainAxes' to the mainFigure\n",
        "mainAxes = mainFigure.add_subplot() \n",
        "\n",
        "# set limits for axis\n",
        "#mainAxes.set_ylim(-20, 20)\n",
        "#mainAxes.set_xlim(-20, 20)\n",
        "\n",
        "# Create x array of numbers from -10 to 10 with 2000 steps-elements\n",
        "x = torch.linspace(-10, 10, 2000, requires_grad = True)\n",
        "\n",
        "# Our func\n",
        "Y = x * torch.sin(x)\n",
        "\n",
        "# some magic here\n",
        "y = torch.sum(x * torch.sin(x))\n",
        "\n",
        "# also magic\n",
        "y.backward()\n",
        "\n",
        "# Draw plots\n",
        "mainAxes.plot(x.detach().numpy(), Y.detach().numpy(), label = 'f(x)=sin(x) * x')\n",
        "mainAxes.plot(x.detach().numpy(), x.grad.detach().numpy(), label = 'g(x)=f\\'(x)')\n",
        "\n",
        "# Add grid\n",
        "mainAxes.grid(True)\n",
        "\n",
        "# Add labels\n",
        "mainAxes.set_xlabel('x label')  # Add an x-label to the axes.\n",
        "mainAxes.set_ylabel('y label')  # Add a y-label to the axes.\n",
        "\n",
        "#Add legend\n",
        "mainAxes.legend()\n",
        "\n",
        "# Draw a plot actually\n",
        "plt.show()\n",
        "\n"
      ],
      "execution_count": null,
      "outputs": [
        {
          "output_type": "display_data",
          "data": {
            "text/plain": [
              "<Figure size 432x288 with 1 Axes>"
            ],
            "image/png": "[encoded data removed]"
          },
          "metadata": {
            "needs_background": "light"
          }
        }
      ]
    }
  ]
}